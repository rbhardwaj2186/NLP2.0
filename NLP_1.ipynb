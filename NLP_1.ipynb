{
  "nbformat": 4,
  "nbformat_minor": 0,
  "metadata": {
    "colab": {
      "provenance": []
    },
    "kernelspec": {
      "name": "python3",
      "display_name": "Python 3"
    },
    "language_info": {
      "name": "python"
    }
  },
  "cells": [
    {
      "cell_type": "code",
      "execution_count": 1,
      "metadata": {
        "id": "ExdGHQbSc5ce"
      },
      "outputs": [],
      "source": [
        "# Preprocessing\n",
        "import nltk # Python library for NLP\n",
        "from nltk.corpus import twitter_samples # sample Twitter dataset from NLTK\n",
        "import matplotlib.pyplot as plt # library for visualization\n",
        "import random # pseudo-random number generator\n",
        "import numpy as np\n"
      ]
    },
    {
      "cell_type": "code",
      "source": [
        "# The dataset from NLTK is winnowed into positive and negative tweets, each containing 5000 tweets example, to have a balanced dataset\n",
        "# download sample twitter dataset\n",
        "nltk.download('twitter_samples')"
      ],
      "metadata": {
        "colab": {
          "base_uri": "https://localhost:8080/"
        },
        "id": "zrlVwH4YdKgy",
        "outputId": "1f1b33c6-12b1-4f85-ab72-bc55033ff6ce"
      },
      "execution_count": 2,
      "outputs": [
        {
          "output_type": "stream",
          "name": "stderr",
          "text": [
            "[nltk_data] Downloading package twitter_samples to /root/nltk_data...\n",
            "[nltk_data]   Unzipping corpora/twitter_samples.zip.\n"
          ]
        },
        {
          "output_type": "execute_result",
          "data": {
            "text/plain": [
              "True"
            ]
          },
          "metadata": {},
          "execution_count": 2
        }
      ]
    },
    {
      "cell_type": "code",
      "source": [
        "# Loading text fields of positive and negative tweets by using the modules string() method\n",
        "all_positive_tweets = twitter_samples.strings('positive_tweets.json')\n",
        "all_negative_tweets = twitter_samples.strings('negative_tweets.json')"
      ],
      "metadata": {
        "id": "ee2ReMRDd7BA"
      },
      "execution_count": 3,
      "outputs": []
    },
    {
      "cell_type": "code",
      "source": [
        "# Knowing the data structure of the dataset\n",
        "print('Number of positive tweets: ', len(all_positive_tweets))\n",
        "print('Number of negative tweets: ', len(all_negative_tweets))\n",
        "\n",
        "print('\\nThe type of all_positive_tweets is: ', type(all_positive_tweets))\n",
        "print('The type of a tweet entry is: ', type(all_negative_tweets[0]))"
      ],
      "metadata": {
        "colab": {
          "base_uri": "https://localhost:8080/"
        },
        "id": "7pSKo8ameOWc",
        "outputId": "a49c66d0-b5da-4672-f372-1cf36f27b1f5"
      },
      "execution_count": 4,
      "outputs": [
        {
          "output_type": "stream",
          "name": "stdout",
          "text": [
            "Number of positive tweets:  5000\n",
            "Number of negative tweets:  5000\n",
            "\n",
            "The type of all_positive_tweets is:  <class 'list'>\n",
            "The type of a tweet entry is:  <class 'str'>\n"
          ]
        }
      ]
    },
    {
      "cell_type": "code",
      "source": [
        "# Using pie chart to show the similar details by visualization\n",
        "\n",
        "# Declare a figure of custom size\n",
        "fig = plt.figure(figsize=(5,5))\n",
        "\n",
        "# Labels for the two classes\n",
        "labels = 'Positives', 'Negative'\n",
        "\n",
        "# Sizes for each slide\n",
        "sizes = [len(all_positive_tweets), len(all_negative_tweets)]\n",
        "\n",
        "# Declare pie chart, where the slices will be ordered and plotted counter-clockwise:\n",
        "plt.pie(sizes, labels=labels, autopct='%1.1f%%', shadow=True, startangle=180)\n",
        "\n",
        "# Equal aspect ratio ensures that pie is drawn as a circle\n",
        "plt.axis('equal')\n",
        "\n",
        "# Display the chart\n",
        "plt.show()\n"
      ],
      "metadata": {
        "colab": {
          "base_uri": "https://localhost:8080/",
          "height": 438
        },
        "id": "bddgcGzzfWg4",
        "outputId": "a1d27e66-9b0e-4a21-d024-3cbab2a79a6c"
      },
      "execution_count": 5,
      "outputs": [
        {
          "output_type": "display_data",
          "data": {
            "text/plain": [
              "<Figure size 500x500 with 1 Axes>"
            ],
            "image/png": "[encoded data removed]"
          },
          "metadata": {}
        }
      ]
    },
    {
      "cell_type": "markdown",
      "source": [
        "### Before proceeding, let's print a few tweets from the dataset to get a sense of what they look like. Understanding the data is crucial, as it accounts for 80% of the success or failure in data science projects. This is an opportunity to observe key aspects that we should consider during the preprocessing stage."
      ],
      "metadata": {
        "id": "YTSOJoIHgbaI"
      }
    },
    {
      "cell_type": "code",
      "source": [
        "# Print positive in green\n",
        "print('\\033[92m' + all_positive_tweets[random.randint(0,5000)])\n",
        "print('\\033[91m' + all_negative_tweets[random.randint(0,5000)])"
      ],
      "metadata": {
        "colab": {
          "base_uri": "https://localhost:8080/"
        },
        "id": "UW8ED5TugNPw",
        "outputId": "9d7a97d1-de7d-46f7-a47d-e19960fcff1f"
      },
      "execution_count": 6,
      "outputs": [
        {
          "output_type": "stream",
          "name": "stdout",
          "text": [
            "\u001b[92mLive night with two fams :) #bloodline #huskies\n",
            "\u001b[91m@lemoncandykiss tbh I forget who is the donation manager in Sin &amp; due to my hp corrupted did a restore all my data lost lor :(\n"
          ]
        }
      ]
    },
    {
      "cell_type": "markdown",
      "source": [
        "### Preprocess raw text for Sentiment Analysis\n",
        "\n",
        "### Data preprocessing is a vital step in any machine learning project. It involves cleaning and formatting the data before it is input into a machine learning algorithm. For natural language processing (NLP), preprocessing includes the following tasks:\n",
        "\n",
        "    Tokenizing the text\n",
        "    Converting to lowercase\n",
        "    Removing stop words and punctuation\n",
        "    Stemming"
      ],
      "metadata": {
        "id": "kDhEiOERhPq_"
      }
    },
    {
      "cell_type": "code",
      "source": [
        "# Selecting a sample\n",
        "tweet = all_positive_tweets[1227]\n",
        "print(tweet)"
      ],
      "metadata": {
        "colab": {
          "base_uri": "https://localhost:8080/"
        },
        "id": "j75RLQbvg16-",
        "outputId": "6455f0ea-0712-4da2-f7a6-d010dcedcc43"
      },
      "execution_count": 12,
      "outputs": [
        {
          "output_type": "stream",
          "name": "stdout",
          "text": [
            "@EczemaNoMore Thanks for the follow :) our soaps are perfect for #eczema sufferers\n"
          ]
        }
      ]
    },
    {
      "cell_type": "code",
      "source": [
        "# Lets import stopwords from NLTK\n",
        "nltk.download('stopwords')"
      ],
      "metadata": {
        "colab": {
          "base_uri": "https://localhost:8080/"
        },
        "id": "-jT_e4RLhrR_",
        "outputId": "9963c07a-86ea-4e36-c286-1ccbdc13c06f"
      },
      "execution_count": 13,
      "outputs": [
        {
          "output_type": "stream",
          "name": "stderr",
          "text": [
            "[nltk_data] Downloading package stopwords to /root/nltk_data...\n",
            "[nltk_data]   Package stopwords is already up-to-date!\n"
          ]
        },
        {
          "output_type": "execute_result",
          "data": {
            "text/plain": [
              "True"
            ]
          },
          "metadata": {},
          "execution_count": 13
        }
      ]
    },
    {
      "cell_type": "code",
      "source": [
        "import re # library for regular expression operations\n",
        "import string # for string operation\n",
        "\n",
        "from nltk.corpus import stopwords # module for stop words that come with NLTK\n",
        "from nltk.stem import PorterStemmer # module for stemming\n",
        "from nltk.tokenize import TweetTokenizer # module for tokenizing strings"
      ],
      "metadata": {
        "id": "nPt28FkOh1nm"
      },
      "execution_count": 14,
      "outputs": []
    },
    {
      "cell_type": "code",
      "source": [
        "# Remove hyperlinks, Twitter marks and styles\n",
        "print('\\033[92m' + tweet)\n",
        "print('\\033[94m')\n",
        "\n",
        "# remove old style retweet text \"RT\"\n",
        "tweet2 = re.sub(r'^RT[\\s]+', '', tweet)\n",
        "\n",
        "# remove hyperlinks\n",
        "tweet2 = re.sub(r'https?:\\/\\/.*[\\r\\n]*', '', tweet2)\n",
        "\n",
        "# remove hashtags\n",
        "# only removing the hash # sign from the word\n",
        "tweet2 = re.sub(r'#', '', tweet2)\n",
        "\n",
        "print(tweet2)"
      ],
      "metadata": {
        "colab": {
          "base_uri": "https://localhost:8080/"
        },
        "id": "Ys-ZT2dPjxXG",
        "outputId": "9751d1a0-356e-4436-8847-cf4c066d2390"
      },
      "execution_count": 15,
      "outputs": [
        {
          "output_type": "stream",
          "name": "stdout",
          "text": [
            "\u001b[92m@EczemaNoMore Thanks for the follow :) our soaps are perfect for #eczema sufferers\n",
            "\u001b[94m\n",
            "@EczemaNoMore Thanks for the follow :) our soaps are perfect for eczema sufferers\n"
          ]
        }
      ]
    },
    {
      "cell_type": "markdown",
      "source": [
        "### Tokenize the string"
      ],
      "metadata": {
        "id": "lN4Icv4cEIa2"
      }
    },
    {
      "cell_type": "code",
      "source": [
        "print()\n",
        "print('\\033[92m' + tweet2)\n",
        "print('\\033[94m')\n",
        "\n",
        "# instantiate tokenizer class\n",
        "tokenizer = TweetTokenizer(preserve_case=False, strip_handles=True, reduce_len=True)\n",
        "\n",
        "# tokenize tweets\n",
        "tweet_tokens = tokenizer.tokenize(tweet2)\n",
        "\n",
        "print()\n",
        "print('Tokenized string:')\n",
        "print(tweet_tokens)\n"
      ],
      "metadata": {
        "colab": {
          "base_uri": "https://localhost:8080/"
        },
        "id": "iXgW0u4iD_Q7",
        "outputId": "9b7c02da-c2db-4074-a028-7d9a312aac1d"
      },
      "execution_count": 16,
      "outputs": [
        {
          "output_type": "stream",
          "name": "stdout",
          "text": [
            "\n",
            "\u001b[92m@EczemaNoMore Thanks for the follow :) our soaps are perfect for eczema sufferers\n",
            "\u001b[94m\n",
            "\n",
            "Tokenized string:\n",
            "['thanks', 'for', 'the', 'follow', ':)', 'our', 'soaps', 'are', 'perfect', 'for', 'eczema', 'sufferers']\n"
          ]
        }
      ]
    },
    {
      "cell_type": "markdown",
      "source": [
        "### Remove stop words and punctuations"
      ],
      "metadata": {
        "id": "lcbehXJkElTE"
      }
    },
    {
      "cell_type": "code",
      "source": [
        "# Import the english stop words list from NLTK\n",
        "stopwords_english = stopwords.words('english')\n",
        "\n",
        "print('Stop words \\n')\n",
        "print(stopwords_english)\n",
        "\n",
        "print('\\nPunctuation marks \\n')\n",
        "print(string.punctuation)\n"
      ],
      "metadata": {
        "colab": {
          "base_uri": "https://localhost:8080/"
        },
        "id": "7_TNtPuAEhHV",
        "outputId": "f0d66a7a-d0a0-44f0-92e1-3ea852382f0a"
      },
      "execution_count": 17,
      "outputs": [
        {
          "output_type": "stream",
          "name": "stdout",
          "text": [
            "Stop words \n",
            "\n",
            "['i', 'me', 'my', 'myself', 'we', 'our', 'ours', 'ourselves', 'you', \"you're\", \"you've\", \"you'll\", \"you'd\", 'your', 'yours', 'yourself', 'yourselves', 'he', 'him', 'his', 'himself', 'she', \"she's\", 'her', 'hers', 'herself', 'it', \"it's\", 'its', 'itself', 'they', 'them', 'their', 'theirs', 'themselves', 'what', 'which', 'who', 'whom', 'this', 'that', \"that'll\", 'these', 'those', 'am', 'is', 'are', 'was', 'were', 'be', 'been', 'being', 'have', 'has', 'had', 'having', 'do', 'does', 'did', 'doing', 'a', 'an', 'the', 'and', 'but', 'if', 'or', 'because', 'as', 'until', 'while', 'of', 'at', 'by', 'for', 'with', 'about', 'against', 'between', 'into', 'through', 'during', 'before', 'after', 'above', 'below', 'to', 'from', 'up', 'down', 'in', 'out', 'on', 'off', 'over', 'under', 'again', 'further', 'then', 'once', 'here', 'there', 'when', 'where', 'why', 'how', 'all', 'any', 'both', 'each', 'few', 'more', 'most', 'other', 'some', 'such', 'no', 'nor', 'not', 'only', 'own', 'same', 'so', 'than', 'too', 'very', 's', 't', 'can', 'will', 'just', 'don', \"don't\", 'should', \"should've\", 'now', 'd', 'll', 'm', 'o', 're', 've', 'y', 'ain', 'aren', \"aren't\", 'couldn', \"couldn't\", 'didn', \"didn't\", 'doesn', \"doesn't\", 'hadn', \"hadn't\", 'hasn', \"hasn't\", 'haven', \"haven't\", 'isn', \"isn't\", 'ma', 'mightn', \"mightn't\", 'mustn', \"mustn't\", 'needn', \"needn't\", 'shan', \"shan't\", 'shouldn', \"shouldn't\", 'wasn', \"wasn't\", 'weren', \"weren't\", 'won', \"won't\", 'wouldn', \"wouldn't\"]\n",
            "\n",
            "Punctuation marks \n",
            "\n",
            "!\"#$%&'()*+,-./:;<=>?@[\\]^_`{|}~\n"
          ]
        }
      ]
    },
    {
      "cell_type": "markdown",
      "source": [
        "### We can observe that the stop words list includes some words that might be significant in certain contexts, such as \"i\", \"not\", \"between\", \"because\", \"won\", and \"against\". For specific applications, you may need to customize the stop words list. Regarding punctuation, we've noted that certain groupings like ':)' and '...' should be kept when working with tweets, as they convey emotions. However, in other contexts, such as medical analysis, these should also be removed.\n",
        "\n",
        "Now, let's clean up our tokenized tweet!"
      ],
      "metadata": {
        "id": "LQaT9lmiFOAL"
      }
    },
    {
      "cell_type": "code",
      "source": [
        "print()\n",
        "print('\\033[92m')\n",
        "print(tweet_tokens)\n",
        "print('\\033[94m')\n",
        "tweets_clean = []\n",
        "\n",
        "for word in tweet_tokens: # Go through every word in your tokens list\n",
        "  if (word not in stopwords_english and word not in string.punctuation): # Remove stopwords and punctuations\n",
        "    tweets_clean.append(word)\n",
        "\n",
        "print('removed stop words and punctuation:')\n",
        "print(tweets_clean)\n",
        "\n"
      ],
      "metadata": {
        "colab": {
          "base_uri": "https://localhost:8080/"
        },
        "id": "FbqqRc7IFQH0",
        "outputId": "afc16a8a-000a-4d18-b6b5-375bcfc7c89a"
      },
      "execution_count": 18,
      "outputs": [
        {
          "output_type": "stream",
          "name": "stdout",
          "text": [
            "\n",
            "\u001b[92m\n",
            "['thanks', 'for', 'the', 'follow', ':)', 'our', 'soaps', 'are', 'perfect', 'for', 'eczema', 'sufferers']\n",
            "\u001b[94m\n",
            "removed stop words and punctuation:\n",
            "['thanks', 'follow', ':)', 'soaps', 'perfect', 'eczema', 'sufferers']\n"
          ]
        }
      ]
    },
    {
      "cell_type": "markdown",
      "source": [
        "### Stemming\n",
        "\n",
        "Stemming is the process of converting a word to its most basic form or stem. This helps in reducing the size of our vocabulary.\n",
        "\n",
        "Consider the words:\n",
        "\n",
        "    run\n",
        "    running\n",
        "    runner\n",
        "    ran\n",
        "\n",
        "All these words are stemmed from the common root \"run\". However, in some cases, the stemming process produces words that are not correct spellings of the root word. For example, \"happi\" and \"easi\". This occurs because the algorithm chooses the most common stem for related words. For instance, we can look at the set of words that comprises the different forms of \"happy\":\n",
        "\n",
        "    happy\n",
        "    happiness\n",
        "    happier\n",
        "\n",
        "We can see that the prefix \"happi\" is more commonly used. We cannot choose \"happ\" because it is the stem of unrelated words like \"happen\".\n",
        "\n",
        "NLTK has different modules for stemming, and we will be using the PorterStemmer module, which uses the Porter Stemming Algorithm. Let's see how we can use it in the cell below."
      ],
      "metadata": {
        "id": "yqSnCMdUFyjt"
      }
    },
    {
      "cell_type": "code",
      "source": [
        "print()\n",
        "print('\\033[92m')\n",
        "print(tweets_clean)\n",
        "print('\\033[94m')\n",
        "\n",
        "# Instantiate stemming class\n",
        "stemmer = PorterStemmer()\n",
        "\n",
        "# Create an empty list to store the stems\n",
        "tweets_stem = []\n",
        "\n",
        "for word in tweets_clean:\n",
        "    stem_word = stemmer.stem(word)  # stemming word\n",
        "    tweets_stem.append(stem_word)  # append to the list\n",
        "\n",
        "print('stemmed words:')\n",
        "print(tweets_stem)"
      ],
      "metadata": {
        "colab": {
          "base_uri": "https://localhost:8080/"
        },
        "id": "0UIJjKyEFl_L",
        "outputId": "90a1603a-e9b9-4ef5-f27b-4b2bacab8554"
      },
      "execution_count": 19,
      "outputs": [
        {
          "output_type": "stream",
          "name": "stdout",
          "text": [
            "\n",
            "\u001b[92m\n",
            "['thanks', 'follow', ':)', 'soaps', 'perfect', 'eczema', 'sufferers']\n",
            "\u001b[94m\n",
            "stemmed words:\n",
            "['thank', 'follow', ':)', 'soap', 'perfect', 'eczema', 'suffer']\n"
          ]
        }
      ]
    },
    {
      "cell_type": "markdown",
      "source": [
        "### process_tweet()\n",
        "\n",
        "#### Preprocessing consists of multiple steps before you arrive at the final list of words."
      ],
      "metadata": {
        "id": "9u2JwzvJGGm5"
      }
    },
    {
      "cell_type": "code",
      "source": [
        "from utils import process_tweet # Import the process_tweet function\n",
        "\n",
        "# choose the same tweet\n",
        "tweet = all_positive_tweets[1227]\n",
        "\n",
        "print()\n",
        "print('\\033[92m')\n",
        "print(tweet)\n",
        "print('\\033[94m')\n",
        "\n",
        "# call the imported function\n",
        "tweets_stem = process_tweet(tweet); # Preprocess a given tweet\n",
        "\n",
        "print('The Processed Tweet is: \\n', tweets_stem)"
      ],
      "metadata": {
        "colab": {
          "base_uri": "https://localhost:8080/"
        },
        "id": "CXChltisGZuZ",
        "outputId": "0036467a-084c-44ce-805b-3a36c75cd510"
      },
      "execution_count": 21,
      "outputs": [
        {
          "output_type": "stream",
          "name": "stdout",
          "text": [
            "\n",
            "\u001b[92m\n",
            "@EczemaNoMore Thanks for the follow :) our soaps are perfect for #eczema sufferers\n",
            "\u001b[94m\n",
            "The Processed Tweet is: \n",
            " ['thank', 'follow', ':)', 'soap', 'perfect', 'eczema', 'suffer']\n"
          ]
        }
      ]
    },
    {
      "cell_type": "code",
      "source": [],
      "metadata": {
        "id": "HJnTq3bMHYIJ"
      },
      "execution_count": null,
      "outputs": []
    }
  ]
}